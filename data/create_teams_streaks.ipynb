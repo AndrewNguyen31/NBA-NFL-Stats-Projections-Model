{
 "cells": [
  {
   "cell_type": "code",
   "execution_count": 1,
   "metadata": {},
   "outputs": [],
   "source": [
    "import pandas as pd\n",
    "import requests\n",
    "\n",
    "from bs4 import BeautifulSoup"
   ]
  },
  {
   "cell_type": "code",
   "execution_count": null,
   "metadata": {},
   "outputs": [],
   "source": [
    "# URL for the Pro-Football-Reference standings page\n",
    "url = 'https://www.nfl.com/standings/division/2024/PRE'\n",
    "\n",
    "# Send a request to fetch the content of the page\n",
    "response = requests.get(url)\n",
    "soup = BeautifulSoup(response.content, 'html.parser')\n",
    "\n",
    "# Find all the tables for each division\n",
    "divisions = soup.find_all('div', class_='d3-o-table--horizontal-scroll')\n",
    "\n",
    "# Placeholder for data\n",
    "streaks_data = []\n",
    "\n",
    "# Extract team names and win/loss streaks\n",
    "for division in divisions:\n",
    "    # Gather the data for each team's name and streak\n",
    "    names = division.find_all('div', class_=\"d3-o-club-fullname\")\n",
    "    streaks = division.find_all('td', class_=\"sorter-strike\")\n",
    "    \n",
    "    # Add the team's name and streak to the data list\n",
    "    for i, v in enumerate(names):\n",
    "        team = v.text.strip()\n",
    "        streak = streaks[i].text.strip()\n",
    "        streaks_data.append([team, streak])\n",
    "\n",
    "# Create a DataFrame\n",
    "streaks_df = pd.DataFrame(streaks_data, columns=['Team', 'Streak'])\n",
    "\n",
    "# Display the DataFrame\n",
    "print(streaks_df)\n",
    "\n",
    "# Save to CSV if needed\n",
    "streaks_df.to_csv('nfl_team_streaks.csv', index=False)"
   ]
  }
 ],
 "metadata": {
  "kernelspec": {
   "display_name": "Python 3",
   "language": "python",
   "name": "python3"
  },
  "language_info": {
   "codemirror_mode": {
    "name": "ipython",
    "version": 3
   },
   "file_extension": ".py",
   "mimetype": "text/x-python",
   "name": "python",
   "nbconvert_exporter": "python",
   "pygments_lexer": "ipython3",
   "version": "3.12.4"
  }
 },
 "nbformat": 4,
 "nbformat_minor": 2
}
